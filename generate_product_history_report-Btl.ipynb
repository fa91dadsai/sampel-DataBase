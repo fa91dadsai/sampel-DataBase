{
 "cells": [
  {
   "cell_type": "code",
   "execution_count": 2,
   "id": "59ee3a5d",
   "metadata": {},
   "outputs": [],
   "source": [
    "import matplotlib.pyplot as plt\n",
    "import pandas as pd\n",
    "import numpy as np # Import NumPy\n"
   ]
  },
  {
   "cell_type": "code",
   "execution_count": 3,
   "id": "a17392ce",
   "metadata": {},
   "outputs": [],
   "source": [
    "data_path = r'C:\\Users\\fadia\\OneDrive\\Desktop\\Ody\\Scripts\\Transformed Data\\Master Combined\\Master_Sales_Data_2021-08-19_to_2025-07-22.csv'\n",
    "df=pd.read_csv(data_path)\n",
    "df['Day_Date'] = pd.to_datetime(df['Day_Date'])"
   ]
  },
  {
   "cell_type": "code",
   "execution_count": 22,
   "id": "bdb33104",
   "metadata": {},
   "outputs": [
    {
     "data": {
      "text/plain": [
       "['J.W Black Label Btl',\n",
       " 'Woodford Reserved Btl',\n",
       " 'Tanqueray Btl',\n",
       " 'Hendricks Btl',\n",
       " 'Chivas Regal Xv - Btl',\n",
       " 'Bacardi Spiced.Btl',\n",
       " 'Buffalo Trace Btl',\n",
       " 'Tavernello Pinot Grigio-Btl',\n",
       " 'Peroni Btl',\n",
       " 'Don Julio Reposado Btl',\n",
       " 'Teeling - Btl',\n",
       " 'Russian Standard Btl',\n",
       " 'Bombay Btl',\n",
       " 'Glenfiddich 15 Btl',\n",
       " 'Ksara Merwah-Btl',\n",
       " 'Danzante Pinot Grigio-Btl',\n",
       " 'Jameson Btl',\n",
       " 'Bottega Rose 20 Cl-Btl',\n",
       " 'J.W Gold Reserve Btl',\n",
       " 'Santa Digna Sauvignon Blanc- Btl',\n",
       " 'La Celia Malbec -Btl',\n",
       " 'Jp Chanet Ice-Btl',\n",
       " 'Jp Chanet Ice Rose-Btl',\n",
       " 'Louis Eschenauer Bordeaux-W-Btl',\n",
       " 'Amstel Btl',\n",
       " 'Glenfiddich 18 Btl',\n",
       " 'Chivas Regal 12Y.Btl',\n",
       " 'Bottega Proseco 20 Cl-Btl',\n",
       " 'Tanqueray 10 Btl',\n",
       " 'Gordons Dry Pink Btl',\n",
       " 'Beluga Noble Btl',\n",
       " 'Patron Gold - Btl',\n",
       " 'Ciroc Btl',\n",
       " 'Russian Platinium  70 Btl',\n",
       " 'Belvedere Btl',\n",
       " 'Jameson Caskmates Ipa - Btl',\n",
       " 'Laroche Petit Chablis-Btl',\n",
       " 'Jameson Caskmates Stout - Btl',\n",
       " 'Long Mountain Cabernet -Btl',\n",
       " 'Aberfeldy 16Y. Btl',\n",
       " 'Grey Goose Btl',\n",
       " 'Sipsmith  Btl',\n",
       " 'J.W Double Black Btl',\n",
       " 'Jr Classic Rose- Btl',\n",
       " 'Jameson 1 Liter Btl',\n",
       " 'Deep Eddy Btl',\n",
       " 'Ksara Chateau- Btl',\n",
       " 'Jr Classic Chardonay-Btl',\n",
       " 'Aultmore 12Y. Btl',\n",
       " 'Whispering Angel- Btl',\n",
       " 'Ketel One Btl',\n",
       " 'Titos Handmade Btl',\n",
       " 'Danzanti Chianti-Btl',\n",
       " 'Santa Digna Carmenere-Btl',\n",
       " 'Bottega Millesimato Brut-Btl',\n",
       " 'Jr Reserved Merlot- Btl',\n",
       " 'Long Mountain Chardonnay-W-Btl',\n",
       " 'Chivas Regal Extra- Btl',\n",
       " 'Jose Cuervo Silver Btl',\n",
       " 'Jose Cuervo Gold Btl',\n",
       " 'Patron Cafe - Btl',\n",
       " 'Ksara Carignan-Btl',\n",
       " 'Santa Digna Rose-Btl',\n",
       " 'Glenfiddich 12 Btl',\n",
       " 'Jr Reserved Cabernet- Btl',\n",
       " 'Bottega Pink Gold-Btl',\n",
       " 'Jr Classic Shiraz- Btl',\n",
       " 'Patron Silver Btl',\n",
       " 'Tavernello Chianti -Btl',\n",
       " 'Macallan  Btl',\n",
       " 'J&B Rare Btl',\n",
       " 'Olmeca Gold- Btl',\n",
       " 'Jameson  75 Btl',\n",
       " 'Escudo Rojo Reserva Cabernet -Btl',\n",
       " 'Bacardi White.Btl',\n",
       " 'Jr Classic Chard-Btl',\n",
       " 'Mistral Pink Btl',\n",
       " 'Chivas Regal 18 Y Btl',\n",
       " 'Captain Morgan Spiced.Btl',\n",
       " 'Gibsons-Btl',\n",
       " 'Bushmills Original Btl',\n",
       " 'Marquese De Riscal-R-Btl',\n",
       " 'Stolichnaya Glod.Btl',\n",
       " 'Legend Of Kermalin Btl',\n",
       " 'Captain Morgan Wh.Btl',\n",
       " 'Clase Azul Plate- Btl',\n",
       " '1800 Silver - Btl',\n",
       " 'Jameson Black Barrel - Btl',\n",
       " 'Jack Daniels Btl',\n",
       " 'Dermishanbo Irish - Btl',\n",
       " 'Marques De Riscal Bianco-W-Btl',\n",
       " 'Louis Eschenauer-R-Btl',\n",
       " 'Olmeca Silver- Btl',\n",
       " 'Sainta Emilion-Btl',\n",
       " 'Patron Reposado- Btl',\n",
       " '1800 Reposado- Btl',\n",
       " 'J.W Aged 18Y-Btl',\n",
       " 'Beluga Transatlantic- Btl',\n",
       " 'Moet&Chandon-Btl',\n",
       " 'Los Vascos-Btl',\n",
       " 'Dermishanbo Ceramic - Btl',\n",
       " 'Gordons Btl',\n",
       " 'Jim Beam Btl',\n",
       " 'Balintines 12 Btl',\n",
       " 'Smirnoff Red Btl',\n",
       " 'Oyster Bay Sauv Bianc-Btl',\n",
       " 'Chateauneuf Du Pape-Btl',\n",
       " 'Sarmientos Sauvignon-Btl',\n",
       " 'Jagermeister - Btl',\n",
       " 'J.W Red Label Btl',\n",
       " 'Santa Margherita Prosecco-Btl',\n",
       " 'Torresella Merlot-Btl',\n",
       " 'Susana Balbo W Blend-Btl',\n",
       " 'Santa Margherita Rose- Btl',\n",
       " 'Santa Margherita Chianti-Btl',\n",
       " 'Don Julio Anejo Btl',\n",
       " 'Susana Balbo Sig Rose- Btl',\n",
       " 'Diplomatico -Reserva-Btl',\n",
       " 'Clase Azul Repos- Btl',\n",
       " 'Glenmorangie - Btl',\n",
       " 'Vdv Ice Rose 20 Cl-Btl',\n",
       " 'Sarmientos Merlot-Btl',\n",
       " 'Torresella Pinot Grigio-Btl',\n",
       " 'Gentelmaen Jack Btl',\n",
       " 'J&B Reserve 15Y  Btl',\n",
       " 'Vdv Ice Brut 20 Cl-Btl',\n",
       " 'Evan Williams  Btl',\n",
       " 'Grand Regnard Chablis-Btl',\n",
       " 'Budvar Btl',\n",
       " 'J.W Black Label 1 L /Btl',\n",
       " 'Glenlivet 70 Cl /Btl',\n",
       " 'Teq.Herradura Anejo Btl',\n",
       " 'Bushmills Black Bush Btl',\n",
       " 'Susana Balbo Malbec -Btl',\n",
       " 'Teq.Herradura Plata.Btl',\n",
       " 'Monkey Shoulder. Btl',\n",
       " 'Famous. Btl',\n",
       " 'Jack Danials S Barel.Btl',\n",
       " 'Kamiki Japanese Btl',\n",
       " 'Tequila Anejo 1800- Btl',\n",
       " 'Beefeater / Btl',\n",
       " 'Hennessy Vsop Btl',\n",
       " 'Springfield Sauvignon Blanc 75Cl-Btl',\n",
       " 'Skyy Btl',\n",
       " 'Neethlingshof Malbec 75Cl-Btl',\n",
       " 'Arak Haddad Btl',\n",
       " 'J.W Black Label 50 Cl /Btl',\n",
       " 'Stolichnaya Red 75Cl/Btl',\n",
       " 'Bombay Bramble Btl',\n",
       " 'Gin Mare Btl',\n",
       " 'J.W Blue Label Btl',\n",
       " 'Jack Danials Fire- Btl',\n",
       " 'Rose Tarabaca-Btl',\n",
       " 'Lamberti Pinot Grigio-Btl',\n",
       " 'Lamberti Merlot-Btl',\n",
       " 'Torresella Rose-Btl',\n",
       " 'Haymans Btl',\n",
       " 'Glenmor 14Y Btl',\n",
       " 'Jose Cuervo Silver Btl70Cl',\n",
       " 'Jose Cuervo Silver Btl100Cl',\n",
       " 'Almaza 5Btl',\n",
       " 'Torresella P.Grigio-Btl',\n",
       " 'Santa Rita Sauvignon Blanc- Btl',\n",
       " 'Chelsea Royal Btl',\n",
       " 'Iwai Japanese Btl',\n",
       " 'West Cork - Btl',\n",
       " 'Santa Rita Cabernet 75Cl-Btl',\n",
       " 'Poesie Pinot Grigio-Btl',\n",
       " 'Russian Gold Btl',\n",
       " 'Hennessy Vs Btl',\n",
       " 'Jr Sparking Rose-Btl',\n",
       " 'Jr Sparking Brut-Btl',\n",
       " 'Poesie Merlot-Btl',\n",
       " 'Don Julio Bianco Btl',\n",
       " 'Havana Club - Btl',\n",
       " 'Poesie Rose-Btl',\n",
       " 'Beefeater / Btl100Cl',\n",
       " 'Absolute Btl100Cl',\n",
       " 'Glenmor 12Y Btl',\n",
       " 'Heineken Btl',\n",
       " 'Sol Btl',\n",
       " 'Veuve Rose 20 Cl-Btl',\n",
       " 'Lunardi Merlot-Btl',\n",
       " 'Lunardi P.Grigio-Btl',\n",
       " 'Red Label Btl 100',\n",
       " 'Veuve Ice 20 Cl-Btl',\n",
       " 'J.W Red Label Btl 75',\n",
       " 'Mastikha - Btl',\n",
       " 'Oyster Bay Pinot-Btl',\n",
       " 'Avion Gold Btl',\n",
       " 'B&G Tourmaline Rose Btl',\n",
       " 'Alhambra Btl',\n",
       " 'B&G St Emilion Btl',\n",
       " 'Castillo De Molina Shiras Btl',\n",
       " 'Komos Anejo Cris Btl',\n",
       " 'B&G Chardonnay-Btl',\n",
       " 'Chivas Regal 13Y.Btl',\n",
       " 'Komos Reposado Btl',\n",
       " 'Avion Silver Btl',\n",
       " 'Teq.Herradura Ultra Anejo Btl',\n",
       " 'Teq.Herradura Legend Btl',\n",
       " 'Castillo De Molina White Btl',\n",
       " 'Black Barrel - Btl',\n",
       " 'Beefeater Pink Btl',\n",
       " 'Jack Daniels Honey Btl',\n",
       " 'Herradura Reposado Btl',\n",
       " 'Maison Castel-Btl',\n",
       " 'Absolute Btl',\n",
       " 'Peroni Btl.',\n",
       " 'Gin Roku Btl',\n",
       " 'Stella Btl',\n",
       " 'Budweiser Btl']"
      ]
     },
     "execution_count": 22,
     "metadata": {},
     "output_type": "execute_result"
    }
   ],
   "source": [
    "# i want to get each item containsing 'Btl' in its name\n",
    "items = df['Item'].unique()\n",
    "items = [item for item in items if 'Btl' in item]\n",
    "items"
   ]
  },
  {
   "cell_type": "code",
   "execution_count": 17,
   "id": "c0b349e5",
   "metadata": {},
   "outputs": [
    {
     "data": {
      "application/vnd.microsoft.datawrangler.viewer.v0+json": {
       "columns": [
        {
         "name": "index",
         "rawType": "int64",
         "type": "integer"
        },
        {
         "name": "Date",
         "rawType": "datetime64[ns]",
         "type": "datetime"
        },
        {
         "name": "Price",
         "rawType": "float64",
         "type": "float"
        },
        {
         "name": "Sale_Date",
         "rawType": "object",
         "type": "unknown"
        },
        {
         "name": "Change_in_Price",
         "rawType": "bool",
         "type": "boolean"
        }
       ],
       "ref": "32d4f293-1e57-4c64-aeab-d48ed09894d8",
       "rows": [
        [
         "15",
         "2021-08-19 19:41:29",
         "80.0",
         "2021-08-19",
         "True"
        ],
        [
         "849",
         "2021-08-26 22:35:14",
         "80.0",
         "2021-08-26",
         "False"
        ],
        [
         "2277",
         "2021-08-30 20:46:06",
         "80.0",
         "2021-08-30",
         "False"
        ],
        [
         "2481",
         "2021-08-30 22:28:10",
         "80.0",
         "2021-08-30",
         "False"
        ],
        [
         "2678",
         "2021-08-31 20:21:48",
         "80.0",
         "2021-08-31",
         "False"
        ],
        [
         "5216",
         "2021-09-09 20:06:51",
         "80.0",
         "2021-09-09",
         "False"
        ],
        [
         "5217",
         "2021-09-09 20:18:17",
         "80.0",
         "2021-09-09",
         "False"
        ],
        [
         "6003",
         "2021-09-12 21:00:05",
         "80.0",
         "2021-09-12",
         "False"
        ],
        [
         "6191",
         "2021-09-13 19:37:50",
         "80.0",
         "2021-09-13",
         "False"
        ],
        [
         "6199",
         "2021-09-13 19:47:45",
         "80.0",
         "2021-09-13",
         "False"
        ],
        [
         "6363",
         "2021-09-14 19:34:48",
         "80.0",
         "2021-09-14",
         "False"
        ],
        [
         "6559",
         "2021-09-14 22:05:37",
         "80.0",
         "2021-09-14",
         "False"
        ],
        [
         "6929",
         "2021-09-15 21:34:16",
         "80.0",
         "2021-09-15",
         "False"
        ],
        [
         "7668",
         "2021-09-17 21:19:11",
         "80.0",
         "2021-09-17",
         "False"
        ],
        [
         "8474",
         "2021-09-21 19:07:37",
         "80.0",
         "2021-09-21",
         "False"
        ],
        [
         "8538",
         "2021-09-21 20:12:58",
         "80.0",
         "2021-09-21",
         "False"
        ],
        [
         "8655",
         "2021-09-21 21:27:33",
         "80.0",
         "2021-09-21",
         "False"
        ],
        [
         "8780",
         "2021-09-21 22:57:49",
         "80.0",
         "2021-09-21",
         "False"
        ],
        [
         "8860",
         "2021-09-22 00:42:36",
         "80.0",
         "2021-09-22",
         "False"
        ],
        [
         "8854",
         "2021-09-22 00:42:36",
         "80.0",
         "2021-09-22",
         "False"
        ],
        [
         "9033",
         "2021-09-22 19:42:04",
         "80.0",
         "2021-09-22",
         "False"
        ],
        [
         "9045",
         "2021-09-22 19:59:31",
         "80.0",
         "2021-09-22",
         "False"
        ],
        [
         "9090",
         "2021-09-22 20:59:58",
         "80.0",
         "2021-09-22",
         "False"
        ],
        [
         "9107",
         "2021-09-22 21:09:46",
         "80.0",
         "2021-09-22",
         "False"
        ],
        [
         "9578",
         "2021-09-23 22:17:01",
         "80.0",
         "2021-09-23",
         "False"
        ],
        [
         "9964",
         "2021-09-24 21:18:35",
         "80.0",
         "2021-09-24",
         "False"
        ],
        [
         "10007",
         "2021-09-24 21:46:19",
         "80.0",
         "2021-09-24",
         "False"
        ],
        [
         "10202",
         "2021-09-25 14:45:22",
         "80.0",
         "2021-09-25",
         "False"
        ],
        [
         "10261",
         "2021-09-25 16:47:40",
         "80.0",
         "2021-09-25",
         "False"
        ],
        [
         "11991",
         "2021-09-30 18:16:57",
         "80.0",
         "2021-09-30",
         "False"
        ],
        [
         "12102",
         "2021-09-30 20:15:20",
         "80.0",
         "2021-09-30",
         "False"
        ],
        [
         "12158",
         "2021-09-30 20:51:40",
         "80.0",
         "2021-09-30",
         "False"
        ],
        [
         "12739",
         "2021-10-01 20:41:40",
         "80.0",
         "2021-10-01",
         "False"
        ],
        [
         "12942",
         "2021-10-01 23:00:42",
         "80.0",
         "2021-10-01",
         "False"
        ],
        [
         "13598",
         "2021-10-03 20:51:45",
         "80.0",
         "2021-10-03",
         "False"
        ],
        [
         "13702",
         "2021-10-03 22:20:12",
         "80.0",
         "2021-10-03",
         "False"
        ],
        [
         "13932",
         "2021-10-04 19:53:44",
         "80.0",
         "2021-10-04",
         "False"
        ],
        [
         "13977",
         "2021-10-04 20:24:54",
         "80.0",
         "2021-10-04",
         "False"
        ],
        [
         "14022",
         "2021-10-04 20:51:56",
         "80.0",
         "2021-10-04",
         "False"
        ],
        [
         "14048",
         "2021-10-04 21:09:12",
         "80.0",
         "2021-10-04",
         "False"
        ],
        [
         "14219",
         "2021-10-04 23:50:43",
         "80.0",
         "2021-10-04",
         "False"
        ],
        [
         "14439",
         "2021-10-05 20:35:58",
         "80.0",
         "2021-10-05",
         "False"
        ],
        [
         "14923",
         "2021-10-06 22:57:50",
         "80.0",
         "2021-10-06",
         "False"
        ],
        [
         "15878",
         "2021-10-08 20:38:23",
         "80.0",
         "2021-10-08",
         "False"
        ],
        [
         "15879",
         "2021-10-08 20:38:54",
         "80.0",
         "2021-10-08",
         "False"
        ],
        [
         "16100",
         "2021-10-08 22:32:31",
         "80.0",
         "2021-10-08",
         "False"
        ],
        [
         "16684",
         "2021-10-10 20:41:11",
         "80.0",
         "2021-10-10",
         "False"
        ],
        [
         "19240",
         "2021-10-17 21:26:07",
         "80.0",
         "2021-10-17",
         "False"
        ],
        [
         "19350",
         "2021-10-18 18:07:31",
         "80.0",
         "2021-10-18",
         "False"
        ],
        [
         "19711",
         "2021-10-18 22:49:31",
         "80.0",
         "2021-10-18",
         "False"
        ]
       ],
       "shape": {
        "columns": 4,
        "rows": 2539
       }
      },
      "text/html": [
       "<div>\n",
       "<style scoped>\n",
       "    .dataframe tbody tr th:only-of-type {\n",
       "        vertical-align: middle;\n",
       "    }\n",
       "\n",
       "    .dataframe tbody tr th {\n",
       "        vertical-align: top;\n",
       "    }\n",
       "\n",
       "    .dataframe thead th {\n",
       "        text-align: right;\n",
       "    }\n",
       "</style>\n",
       "<table border=\"1\" class=\"dataframe\">\n",
       "  <thead>\n",
       "    <tr style=\"text-align: right;\">\n",
       "      <th></th>\n",
       "      <th>Date</th>\n",
       "      <th>Price</th>\n",
       "      <th>Sale_Date</th>\n",
       "      <th>Change_in_Price</th>\n",
       "    </tr>\n",
       "  </thead>\n",
       "  <tbody>\n",
       "    <tr>\n",
       "      <th>15</th>\n",
       "      <td>2021-08-19 19:41:29</td>\n",
       "      <td>80.0</td>\n",
       "      <td>2021-08-19</td>\n",
       "      <td>True</td>\n",
       "    </tr>\n",
       "    <tr>\n",
       "      <th>849</th>\n",
       "      <td>2021-08-26 22:35:14</td>\n",
       "      <td>80.0</td>\n",
       "      <td>2021-08-26</td>\n",
       "      <td>False</td>\n",
       "    </tr>\n",
       "    <tr>\n",
       "      <th>2277</th>\n",
       "      <td>2021-08-30 20:46:06</td>\n",
       "      <td>80.0</td>\n",
       "      <td>2021-08-30</td>\n",
       "      <td>False</td>\n",
       "    </tr>\n",
       "    <tr>\n",
       "      <th>2481</th>\n",
       "      <td>2021-08-30 22:28:10</td>\n",
       "      <td>80.0</td>\n",
       "      <td>2021-08-30</td>\n",
       "      <td>False</td>\n",
       "    </tr>\n",
       "    <tr>\n",
       "      <th>2678</th>\n",
       "      <td>2021-08-31 20:21:48</td>\n",
       "      <td>80.0</td>\n",
       "      <td>2021-08-31</td>\n",
       "      <td>False</td>\n",
       "    </tr>\n",
       "    <tr>\n",
       "      <th>...</th>\n",
       "      <td>...</td>\n",
       "      <td>...</td>\n",
       "      <td>...</td>\n",
       "      <td>...</td>\n",
       "    </tr>\n",
       "    <tr>\n",
       "      <th>744637</th>\n",
       "      <td>2025-07-19 19:10:34</td>\n",
       "      <td>90.0</td>\n",
       "      <td>2025-07-19</td>\n",
       "      <td>False</td>\n",
       "    </tr>\n",
       "    <tr>\n",
       "      <th>744725</th>\n",
       "      <td>2025-07-19 20:32:31</td>\n",
       "      <td>90.0</td>\n",
       "      <td>2025-07-19</td>\n",
       "      <td>False</td>\n",
       "    </tr>\n",
       "    <tr>\n",
       "      <th>744996</th>\n",
       "      <td>2025-07-20 16:08:07</td>\n",
       "      <td>90.0</td>\n",
       "      <td>2025-07-20</td>\n",
       "      <td>False</td>\n",
       "    </tr>\n",
       "    <tr>\n",
       "      <th>745445</th>\n",
       "      <td>2025-07-21 20:38:19</td>\n",
       "      <td>90.0</td>\n",
       "      <td>2025-07-21</td>\n",
       "      <td>False</td>\n",
       "    </tr>\n",
       "    <tr>\n",
       "      <th>745837</th>\n",
       "      <td>2025-07-22 21:48:23</td>\n",
       "      <td>90.0</td>\n",
       "      <td>2025-07-22</td>\n",
       "      <td>False</td>\n",
       "    </tr>\n",
       "  </tbody>\n",
       "</table>\n",
       "<p>2539 rows × 4 columns</p>\n",
       "</div>"
      ],
      "text/plain": [
       "                      Date  Price   Sale_Date  Change_in_Price\n",
       "15     2021-08-19 19:41:29   80.0  2021-08-19             True\n",
       "849    2021-08-26 22:35:14   80.0  2021-08-26            False\n",
       "2277   2021-08-30 20:46:06   80.0  2021-08-30            False\n",
       "2481   2021-08-30 22:28:10   80.0  2021-08-30            False\n",
       "2678   2021-08-31 20:21:48   80.0  2021-08-31            False\n",
       "...                    ...    ...         ...              ...\n",
       "744637 2025-07-19 19:10:34   90.0  2025-07-19            False\n",
       "744725 2025-07-19 20:32:31   90.0  2025-07-19            False\n",
       "744996 2025-07-20 16:08:07   90.0  2025-07-20            False\n",
       "745445 2025-07-21 20:38:19   90.0  2025-07-21            False\n",
       "745837 2025-07-22 21:48:23   90.0  2025-07-22            False\n",
       "\n",
       "[2539 rows x 4 columns]"
      ]
     },
     "execution_count": 17,
     "metadata": {},
     "output_type": "execute_result"
    }
   ],
   "source": [
    "item = 'J.W Black Label Btl'\n",
    "mask = (df[\"Item\"] == item) & (df[\"Table\"]!= 100) & (df[\"Table\"]!= 200) & (df[\"Payment\"]!= \"Credit\")\n",
    "item_df = df[mask].copy()\n",
    "item_df = item_df[['Date', 'Price']]\n",
    "\n",
    "item_df['Date'] = pd.to_datetime(item_df['Date'])\n",
    "item_df = item_df.sort_values('Date')\n",
    "item_df['Sale_Date'] = item_df['Date'].dt.date # date without time , like 2023-01-01\n",
    "item_df[\"Change_in_Price\"] = item_df[\"Price\"] != item_df[\"Price\"].shift(1)\n",
    "item_df"
   ]
  },
  {
   "cell_type": "code",
   "execution_count": 18,
   "id": "163418f2",
   "metadata": {},
   "outputs": [
    {
     "data": {
      "application/vnd.microsoft.datawrangler.viewer.v0+json": {
       "columns": [
        {
         "name": "index",
         "rawType": "int64",
         "type": "integer"
        },
        {
         "name": "Sale_Date",
         "rawType": "object",
         "type": "unknown"
        },
        {
         "name": "32.8703",
         "rawType": "int64",
         "type": "integer"
        },
        {
         "name": "80.0",
         "rawType": "int64",
         "type": "integer"
        },
        {
         "name": "90.0",
         "rawType": "int64",
         "type": "integer"
        }
       ],
       "ref": "c35cfa9f-44ba-4e10-8c9d-dde9f0ff0f28",
       "rows": [
        [
         "0",
         "2021-08-19",
         "0",
         "1",
         "0"
        ],
        [
         "1",
         "2021-08-26",
         "0",
         "1",
         "0"
        ],
        [
         "2",
         "2021-08-30",
         "0",
         "2",
         "0"
        ],
        [
         "3",
         "2021-08-31",
         "0",
         "1",
         "0"
        ],
        [
         "4",
         "2021-09-09",
         "0",
         "2",
         "0"
        ],
        [
         "5",
         "2021-09-12",
         "0",
         "1",
         "0"
        ],
        [
         "6",
         "2021-09-13",
         "0",
         "2",
         "0"
        ],
        [
         "7",
         "2021-09-14",
         "0",
         "2",
         "0"
        ],
        [
         "8",
         "2021-09-15",
         "0",
         "1",
         "0"
        ],
        [
         "9",
         "2021-09-17",
         "0",
         "1",
         "0"
        ],
        [
         "10",
         "2021-09-21",
         "0",
         "4",
         "0"
        ],
        [
         "11",
         "2021-09-22",
         "0",
         "6",
         "0"
        ],
        [
         "12",
         "2021-09-23",
         "0",
         "1",
         "0"
        ],
        [
         "13",
         "2021-09-24",
         "0",
         "2",
         "0"
        ],
        [
         "14",
         "2021-09-25",
         "0",
         "2",
         "0"
        ],
        [
         "15",
         "2021-09-30",
         "0",
         "3",
         "0"
        ],
        [
         "16",
         "2021-10-01",
         "0",
         "2",
         "0"
        ],
        [
         "17",
         "2021-10-03",
         "0",
         "2",
         "0"
        ],
        [
         "18",
         "2021-10-04",
         "0",
         "5",
         "0"
        ],
        [
         "19",
         "2021-10-05",
         "0",
         "1",
         "0"
        ],
        [
         "20",
         "2021-10-06",
         "0",
         "1",
         "0"
        ],
        [
         "21",
         "2021-10-08",
         "0",
         "3",
         "0"
        ],
        [
         "22",
         "2021-10-10",
         "0",
         "1",
         "0"
        ],
        [
         "23",
         "2021-10-17",
         "0",
         "1",
         "0"
        ],
        [
         "24",
         "2021-10-18",
         "0",
         "3",
         "0"
        ],
        [
         "25",
         "2021-10-19",
         "0",
         "1",
         "0"
        ],
        [
         "26",
         "2021-10-21",
         "0",
         "3",
         "0"
        ],
        [
         "27",
         "2021-10-22",
         "0",
         "1",
         "0"
        ],
        [
         "28",
         "2021-10-23",
         "0",
         "1",
         "0"
        ],
        [
         "29",
         "2021-10-24",
         "0",
         "1",
         "0"
        ],
        [
         "30",
         "2021-10-26",
         "0",
         "3",
         "0"
        ],
        [
         "31",
         "2021-10-27",
         "0",
         "3",
         "0"
        ],
        [
         "32",
         "2021-10-28",
         "0",
         "4",
         "0"
        ],
        [
         "33",
         "2021-10-30",
         "0",
         "1",
         "0"
        ],
        [
         "34",
         "2021-10-31",
         "0",
         "3",
         "0"
        ],
        [
         "35",
         "2021-11-01",
         "0",
         "2",
         "0"
        ],
        [
         "36",
         "2021-11-02",
         "0",
         "6",
         "0"
        ],
        [
         "37",
         "2021-11-03",
         "0",
         "3",
         "0"
        ],
        [
         "38",
         "2021-11-04",
         "0",
         "5",
         "0"
        ],
        [
         "39",
         "2021-11-05",
         "0",
         "4",
         "0"
        ],
        [
         "40",
         "2021-11-07",
         "0",
         "1",
         "0"
        ],
        [
         "41",
         "2021-11-08",
         "0",
         "1",
         "0"
        ],
        [
         "42",
         "2021-11-09",
         "0",
         "2",
         "0"
        ],
        [
         "43",
         "2021-11-10",
         "0",
         "3",
         "0"
        ],
        [
         "44",
         "2021-11-11",
         "0",
         "6",
         "0"
        ],
        [
         "45",
         "2021-11-12",
         "0",
         "1",
         "0"
        ],
        [
         "46",
         "2021-11-13",
         "0",
         "1",
         "0"
        ],
        [
         "47",
         "2021-11-14",
         "0",
         "3",
         "0"
        ],
        [
         "48",
         "2021-11-15",
         "0",
         "1",
         "0"
        ],
        [
         "49",
         "2021-11-16",
         "0",
         "1",
         "0"
        ]
       ],
       "shape": {
        "columns": 4,
        "rows": 992
       }
      },
      "text/html": [
       "<div>\n",
       "<style scoped>\n",
       "    .dataframe tbody tr th:only-of-type {\n",
       "        vertical-align: middle;\n",
       "    }\n",
       "\n",
       "    .dataframe tbody tr th {\n",
       "        vertical-align: top;\n",
       "    }\n",
       "\n",
       "    .dataframe thead th {\n",
       "        text-align: right;\n",
       "    }\n",
       "</style>\n",
       "<table border=\"1\" class=\"dataframe\">\n",
       "  <thead>\n",
       "    <tr style=\"text-align: right;\">\n",
       "      <th>Price</th>\n",
       "      <th>Sale_Date</th>\n",
       "      <th>32.8703</th>\n",
       "      <th>80.0</th>\n",
       "      <th>90.0</th>\n",
       "    </tr>\n",
       "  </thead>\n",
       "  <tbody>\n",
       "    <tr>\n",
       "      <th>0</th>\n",
       "      <td>2021-08-19</td>\n",
       "      <td>0</td>\n",
       "      <td>1</td>\n",
       "      <td>0</td>\n",
       "    </tr>\n",
       "    <tr>\n",
       "      <th>1</th>\n",
       "      <td>2021-08-26</td>\n",
       "      <td>0</td>\n",
       "      <td>1</td>\n",
       "      <td>0</td>\n",
       "    </tr>\n",
       "    <tr>\n",
       "      <th>2</th>\n",
       "      <td>2021-08-30</td>\n",
       "      <td>0</td>\n",
       "      <td>2</td>\n",
       "      <td>0</td>\n",
       "    </tr>\n",
       "    <tr>\n",
       "      <th>3</th>\n",
       "      <td>2021-08-31</td>\n",
       "      <td>0</td>\n",
       "      <td>1</td>\n",
       "      <td>0</td>\n",
       "    </tr>\n",
       "    <tr>\n",
       "      <th>4</th>\n",
       "      <td>2021-09-09</td>\n",
       "      <td>0</td>\n",
       "      <td>2</td>\n",
       "      <td>0</td>\n",
       "    </tr>\n",
       "    <tr>\n",
       "      <th>...</th>\n",
       "      <td>...</td>\n",
       "      <td>...</td>\n",
       "      <td>...</td>\n",
       "      <td>...</td>\n",
       "    </tr>\n",
       "    <tr>\n",
       "      <th>987</th>\n",
       "      <td>2025-07-18</td>\n",
       "      <td>0</td>\n",
       "      <td>0</td>\n",
       "      <td>1</td>\n",
       "    </tr>\n",
       "    <tr>\n",
       "      <th>988</th>\n",
       "      <td>2025-07-19</td>\n",
       "      <td>0</td>\n",
       "      <td>0</td>\n",
       "      <td>2</td>\n",
       "    </tr>\n",
       "    <tr>\n",
       "      <th>989</th>\n",
       "      <td>2025-07-20</td>\n",
       "      <td>0</td>\n",
       "      <td>0</td>\n",
       "      <td>1</td>\n",
       "    </tr>\n",
       "    <tr>\n",
       "      <th>990</th>\n",
       "      <td>2025-07-21</td>\n",
       "      <td>0</td>\n",
       "      <td>0</td>\n",
       "      <td>1</td>\n",
       "    </tr>\n",
       "    <tr>\n",
       "      <th>991</th>\n",
       "      <td>2025-07-22</td>\n",
       "      <td>0</td>\n",
       "      <td>0</td>\n",
       "      <td>1</td>\n",
       "    </tr>\n",
       "  </tbody>\n",
       "</table>\n",
       "<p>992 rows × 4 columns</p>\n",
       "</div>"
      ],
      "text/plain": [
       "Price   Sale_Date  32.8703  80.0  90.0\n",
       "0      2021-08-19        0     1     0\n",
       "1      2021-08-26        0     1     0\n",
       "2      2021-08-30        0     2     0\n",
       "3      2021-08-31        0     1     0\n",
       "4      2021-09-09        0     2     0\n",
       "..            ...      ...   ...   ...\n",
       "987    2025-07-18        0     0     1\n",
       "988    2025-07-19        0     0     2\n",
       "989    2025-07-20        0     0     1\n",
       "990    2025-07-21        0     0     1\n",
       "991    2025-07-22        0     0     1\n",
       "\n",
       "[992 rows x 4 columns]"
      ]
     },
     "execution_count": 18,
     "metadata": {},
     "output_type": "execute_result"
    }
   ],
   "source": [
    "item_df.groupby(['Sale_Date','Price']).size().unstack(fill_value=0).reset_index()\n"
   ]
  },
  {
   "cell_type": "code",
   "execution_count": 19,
   "id": "5c3a85b0",
   "metadata": {},
   "outputs": [
    {
     "data": {
      "application/vnd.microsoft.datawrangler.viewer.v0+json": {
       "columns": [
        {
         "name": "index",
         "rawType": "int64",
         "type": "integer"
        },
        {
         "name": "Date",
         "rawType": "datetime64[ns]",
         "type": "datetime"
        },
        {
         "name": "Price",
         "rawType": "float64",
         "type": "float"
        },
        {
         "name": "Sale_Date",
         "rawType": "object",
         "type": "unknown"
        },
        {
         "name": "Change_in_Price",
         "rawType": "bool",
         "type": "boolean"
        }
       ],
       "ref": "5bf33bc0-4dd2-4a27-9ead-a5f3f64730ed",
       "rows": [
        [
         "15",
         "2021-08-19 19:41:29",
         "80.0",
         "2021-08-19",
         "True"
        ],
        [
         "192775",
         "2022-09-17 15:28:40",
         "90.0",
         "2022-09-17",
         "True"
        ],
        [
         "710046",
         "2025-05-08 17:56:08",
         "32.8703",
         "2025-05-08",
         "True"
        ],
        [
         "710858",
         "2025-05-09 21:19:47",
         "90.0",
         "2025-05-09",
         "True"
        ]
       ],
       "shape": {
        "columns": 4,
        "rows": 4
       }
      },
      "text/html": [
       "<div>\n",
       "<style scoped>\n",
       "    .dataframe tbody tr th:only-of-type {\n",
       "        vertical-align: middle;\n",
       "    }\n",
       "\n",
       "    .dataframe tbody tr th {\n",
       "        vertical-align: top;\n",
       "    }\n",
       "\n",
       "    .dataframe thead th {\n",
       "        text-align: right;\n",
       "    }\n",
       "</style>\n",
       "<table border=\"1\" class=\"dataframe\">\n",
       "  <thead>\n",
       "    <tr style=\"text-align: right;\">\n",
       "      <th></th>\n",
       "      <th>Date</th>\n",
       "      <th>Price</th>\n",
       "      <th>Sale_Date</th>\n",
       "      <th>Change_in_Price</th>\n",
       "    </tr>\n",
       "  </thead>\n",
       "  <tbody>\n",
       "    <tr>\n",
       "      <th>15</th>\n",
       "      <td>2021-08-19 19:41:29</td>\n",
       "      <td>80.0000</td>\n",
       "      <td>2021-08-19</td>\n",
       "      <td>True</td>\n",
       "    </tr>\n",
       "    <tr>\n",
       "      <th>192775</th>\n",
       "      <td>2022-09-17 15:28:40</td>\n",
       "      <td>90.0000</td>\n",
       "      <td>2022-09-17</td>\n",
       "      <td>True</td>\n",
       "    </tr>\n",
       "    <tr>\n",
       "      <th>710046</th>\n",
       "      <td>2025-05-08 17:56:08</td>\n",
       "      <td>32.8703</td>\n",
       "      <td>2025-05-08</td>\n",
       "      <td>True</td>\n",
       "    </tr>\n",
       "    <tr>\n",
       "      <th>710858</th>\n",
       "      <td>2025-05-09 21:19:47</td>\n",
       "      <td>90.0000</td>\n",
       "      <td>2025-05-09</td>\n",
       "      <td>True</td>\n",
       "    </tr>\n",
       "  </tbody>\n",
       "</table>\n",
       "</div>"
      ],
      "text/plain": [
       "                      Date    Price   Sale_Date  Change_in_Price\n",
       "15     2021-08-19 19:41:29  80.0000  2021-08-19             True\n",
       "192775 2022-09-17 15:28:40  90.0000  2022-09-17             True\n",
       "710046 2025-05-08 17:56:08  32.8703  2025-05-08             True\n",
       "710858 2025-05-09 21:19:47  90.0000  2025-05-09             True"
      ]
     },
     "execution_count": 19,
     "metadata": {},
     "output_type": "execute_result"
    }
   ],
   "source": [
    "# i want to get the rows where the price changed\n",
    "item_df = item_df[item_df[\"Change_in_Price\"] == True]\n",
    "item_df"
   ]
  },
  {
   "cell_type": "code",
   "execution_count": 9,
   "id": "105095d9",
   "metadata": {},
   "outputs": [
    {
     "data": {
      "application/vnd.microsoft.datawrangler.viewer.v0+json": {
       "columns": [
        {
         "name": "index",
         "rawType": "int64",
         "type": "integer"
        },
        {
         "name": "Sale_Date",
         "rawType": "object",
         "type": "unknown"
        },
        {
         "name": "Price",
         "rawType": "float64",
         "type": "float"
        }
       ],
       "ref": "669122c5-5d9b-41c9-834e-21d79e390db5",
       "rows": [
        [
         "0",
         "2021-08-19",
         "80.0"
        ],
        [
         "1",
         "2021-08-26",
         "80.0"
        ],
        [
         "2",
         "2021-08-30",
         "80.0"
        ],
        [
         "3",
         "2021-08-31",
         "80.0"
        ],
        [
         "4",
         "2021-09-09",
         "80.0"
        ],
        [
         "5",
         "2021-09-12",
         "80.0"
        ],
        [
         "6",
         "2021-09-13",
         "80.0"
        ],
        [
         "7",
         "2021-09-14",
         "80.0"
        ],
        [
         "8",
         "2021-09-15",
         "80.0"
        ],
        [
         "9",
         "2021-09-17",
         "80.0"
        ],
        [
         "10",
         "2021-09-21",
         "80.0"
        ],
        [
         "11",
         "2021-09-22",
         "80.0"
        ],
        [
         "12",
         "2021-09-23",
         "80.0"
        ],
        [
         "13",
         "2021-09-24",
         "80.0"
        ],
        [
         "14",
         "2021-09-25",
         "80.0"
        ],
        [
         "15",
         "2021-09-30",
         "80.0"
        ],
        [
         "16",
         "2021-10-01",
         "80.0"
        ],
        [
         "17",
         "2021-10-03",
         "80.0"
        ],
        [
         "18",
         "2021-10-04",
         "80.0"
        ],
        [
         "19",
         "2021-10-05",
         "80.0"
        ],
        [
         "20",
         "2021-10-06",
         "80.0"
        ],
        [
         "21",
         "2021-10-08",
         "80.0"
        ],
        [
         "22",
         "2021-10-10",
         "80.0"
        ],
        [
         "23",
         "2021-10-17",
         "80.0"
        ],
        [
         "24",
         "2021-10-18",
         "80.0"
        ],
        [
         "25",
         "2021-10-19",
         "80.0"
        ],
        [
         "26",
         "2021-10-21",
         "80.0"
        ],
        [
         "27",
         "2021-10-22",
         "80.0"
        ],
        [
         "28",
         "2021-10-23",
         "80.0"
        ],
        [
         "29",
         "2021-10-24",
         "80.0"
        ],
        [
         "30",
         "2021-10-26",
         "80.0"
        ],
        [
         "31",
         "2021-10-27",
         "80.0"
        ],
        [
         "32",
         "2021-10-28",
         "80.0"
        ],
        [
         "33",
         "2021-10-30",
         "80.0"
        ],
        [
         "34",
         "2021-10-31",
         "80.0"
        ],
        [
         "35",
         "2021-11-01",
         "80.0"
        ],
        [
         "36",
         "2021-11-02",
         "80.0"
        ],
        [
         "37",
         "2021-11-03",
         "80.0"
        ],
        [
         "38",
         "2021-11-04",
         "80.0"
        ],
        [
         "39",
         "2021-11-05",
         "80.0"
        ],
        [
         "40",
         "2021-11-07",
         "80.0"
        ],
        [
         "41",
         "2021-11-08",
         "80.0"
        ],
        [
         "42",
         "2021-11-09",
         "80.0"
        ],
        [
         "43",
         "2021-11-10",
         "80.0"
        ],
        [
         "44",
         "2021-11-11",
         "80.0"
        ],
        [
         "45",
         "2021-11-12",
         "80.0"
        ],
        [
         "46",
         "2021-11-13",
         "80.0"
        ],
        [
         "47",
         "2021-11-14",
         "80.0"
        ],
        [
         "48",
         "2021-11-15",
         "80.0"
        ],
        [
         "49",
         "2021-11-16",
         "80.0"
        ]
       ],
       "shape": {
        "columns": 2,
        "rows": 992
       }
      },
      "text/html": [
       "<div>\n",
       "<style scoped>\n",
       "    .dataframe tbody tr th:only-of-type {\n",
       "        vertical-align: middle;\n",
       "    }\n",
       "\n",
       "    .dataframe tbody tr th {\n",
       "        vertical-align: top;\n",
       "    }\n",
       "\n",
       "    .dataframe thead th {\n",
       "        text-align: right;\n",
       "    }\n",
       "</style>\n",
       "<table border=\"1\" class=\"dataframe\">\n",
       "  <thead>\n",
       "    <tr style=\"text-align: right;\">\n",
       "      <th></th>\n",
       "      <th>Sale_Date</th>\n",
       "      <th>Price</th>\n",
       "    </tr>\n",
       "  </thead>\n",
       "  <tbody>\n",
       "    <tr>\n",
       "      <th>0</th>\n",
       "      <td>2021-08-19</td>\n",
       "      <td>80.0</td>\n",
       "    </tr>\n",
       "    <tr>\n",
       "      <th>1</th>\n",
       "      <td>2021-08-26</td>\n",
       "      <td>80.0</td>\n",
       "    </tr>\n",
       "    <tr>\n",
       "      <th>2</th>\n",
       "      <td>2021-08-30</td>\n",
       "      <td>80.0</td>\n",
       "    </tr>\n",
       "    <tr>\n",
       "      <th>3</th>\n",
       "      <td>2021-08-31</td>\n",
       "      <td>80.0</td>\n",
       "    </tr>\n",
       "    <tr>\n",
       "      <th>4</th>\n",
       "      <td>2021-09-09</td>\n",
       "      <td>80.0</td>\n",
       "    </tr>\n",
       "    <tr>\n",
       "      <th>...</th>\n",
       "      <td>...</td>\n",
       "      <td>...</td>\n",
       "    </tr>\n",
       "    <tr>\n",
       "      <th>987</th>\n",
       "      <td>2025-07-18</td>\n",
       "      <td>90.0</td>\n",
       "    </tr>\n",
       "    <tr>\n",
       "      <th>988</th>\n",
       "      <td>2025-07-19</td>\n",
       "      <td>90.0</td>\n",
       "    </tr>\n",
       "    <tr>\n",
       "      <th>989</th>\n",
       "      <td>2025-07-20</td>\n",
       "      <td>90.0</td>\n",
       "    </tr>\n",
       "    <tr>\n",
       "      <th>990</th>\n",
       "      <td>2025-07-21</td>\n",
       "      <td>90.0</td>\n",
       "    </tr>\n",
       "    <tr>\n",
       "      <th>991</th>\n",
       "      <td>2025-07-22</td>\n",
       "      <td>90.0</td>\n",
       "    </tr>\n",
       "  </tbody>\n",
       "</table>\n",
       "<p>992 rows × 2 columns</p>\n",
       "</div>"
      ],
      "text/plain": [
       "      Sale_Date  Price\n",
       "0    2021-08-19   80.0\n",
       "1    2021-08-26   80.0\n",
       "2    2021-08-30   80.0\n",
       "3    2021-08-31   80.0\n",
       "4    2021-09-09   80.0\n",
       "..          ...    ...\n",
       "987  2025-07-18   90.0\n",
       "988  2025-07-19   90.0\n",
       "989  2025-07-20   90.0\n",
       "990  2025-07-21   90.0\n",
       "991  2025-07-22   90.0\n",
       "\n",
       "[992 rows x 2 columns]"
      ]
     },
     "execution_count": 9,
     "metadata": {},
     "output_type": "execute_result"
    }
   ],
   "source": [
    "daily_prices = item_df.groupby(\"Sale_Date\")[\"Price\"].agg(lambda x: x.mode()[0]).reset_index()\n",
    "daily_prices"
   ]
  },
  {
   "cell_type": "code",
   "execution_count": 10,
   "id": "efa0cd3a",
   "metadata": {},
   "outputs": [],
   "source": [
    "all_dates = pd.date_range(start=df['Day_Date'].min(), end=df['Day_Date'].max())\n",
    "all_dates_df = pd.DataFrame(all_dates, columns=['Sale_Date'])\n",
    "all_dates_df[\"Sale_Date\"] = all_dates_df[\"Sale_Date\"].dt.date"
   ]
  },
  {
   "cell_type": "code",
   "execution_count": 13,
   "id": "b43938a1",
   "metadata": {},
   "outputs": [
    {
     "data": {
      "application/vnd.microsoft.datawrangler.viewer.v0+json": {
       "columns": [
        {
         "name": "index",
         "rawType": "int64",
         "type": "integer"
        },
        {
         "name": "Sale_Date",
         "rawType": "object",
         "type": "unknown"
        },
        {
         "name": "Price",
         "rawType": "float64",
         "type": "float"
        }
       ],
       "ref": "9c95cdac-66f6-4583-b389-c19053969ed5",
       "rows": [
        [
         "0",
         "2021-08-19",
         "80.0"
        ],
        [
         "1",
         "2021-08-20",
         "80.0"
        ],
        [
         "2",
         "2021-08-21",
         "80.0"
        ],
        [
         "3",
         "2021-08-22",
         "80.0"
        ],
        [
         "4",
         "2021-08-23",
         "80.0"
        ],
        [
         "5",
         "2021-08-24",
         "80.0"
        ],
        [
         "6",
         "2021-08-25",
         "80.0"
        ],
        [
         "7",
         "2021-08-26",
         "80.0"
        ],
        [
         "8",
         "2021-08-27",
         "80.0"
        ],
        [
         "9",
         "2021-08-28",
         "80.0"
        ],
        [
         "10",
         "2021-08-29",
         "80.0"
        ],
        [
         "11",
         "2021-08-30",
         "80.0"
        ],
        [
         "12",
         "2021-08-31",
         "80.0"
        ],
        [
         "13",
         "2021-09-01",
         "80.0"
        ],
        [
         "14",
         "2021-09-02",
         "80.0"
        ],
        [
         "15",
         "2021-09-03",
         "80.0"
        ],
        [
         "16",
         "2021-09-04",
         "80.0"
        ],
        [
         "17",
         "2021-09-05",
         "80.0"
        ],
        [
         "18",
         "2021-09-06",
         "80.0"
        ],
        [
         "19",
         "2021-09-07",
         "80.0"
        ],
        [
         "20",
         "2021-09-08",
         "80.0"
        ],
        [
         "21",
         "2021-09-09",
         "80.0"
        ],
        [
         "22",
         "2021-09-10",
         "80.0"
        ],
        [
         "23",
         "2021-09-11",
         "80.0"
        ],
        [
         "24",
         "2021-09-12",
         "80.0"
        ],
        [
         "25",
         "2021-09-13",
         "80.0"
        ],
        [
         "26",
         "2021-09-14",
         "80.0"
        ],
        [
         "27",
         "2021-09-15",
         "80.0"
        ],
        [
         "28",
         "2021-09-16",
         "80.0"
        ],
        [
         "29",
         "2021-09-17",
         "80.0"
        ],
        [
         "30",
         "2021-09-18",
         "80.0"
        ],
        [
         "31",
         "2021-09-19",
         "80.0"
        ],
        [
         "32",
         "2021-09-20",
         "80.0"
        ],
        [
         "33",
         "2021-09-21",
         "80.0"
        ],
        [
         "34",
         "2021-09-22",
         "80.0"
        ],
        [
         "35",
         "2021-09-23",
         "80.0"
        ],
        [
         "36",
         "2021-09-24",
         "80.0"
        ],
        [
         "37",
         "2021-09-25",
         "80.0"
        ],
        [
         "38",
         "2021-09-26",
         "80.0"
        ],
        [
         "39",
         "2021-09-27",
         "80.0"
        ],
        [
         "40",
         "2021-09-28",
         "80.0"
        ],
        [
         "41",
         "2021-09-29",
         "80.0"
        ],
        [
         "42",
         "2021-09-30",
         "80.0"
        ],
        [
         "43",
         "2021-10-01",
         "80.0"
        ],
        [
         "44",
         "2021-10-02",
         "80.0"
        ],
        [
         "45",
         "2021-10-03",
         "80.0"
        ],
        [
         "46",
         "2021-10-04",
         "80.0"
        ],
        [
         "47",
         "2021-10-05",
         "80.0"
        ],
        [
         "48",
         "2021-10-06",
         "80.0"
        ],
        [
         "49",
         "2021-10-07",
         "80.0"
        ]
       ],
       "shape": {
        "columns": 2,
        "rows": 1434
       }
      },
      "text/html": [
       "<div>\n",
       "<style scoped>\n",
       "    .dataframe tbody tr th:only-of-type {\n",
       "        vertical-align: middle;\n",
       "    }\n",
       "\n",
       "    .dataframe tbody tr th {\n",
       "        vertical-align: top;\n",
       "    }\n",
       "\n",
       "    .dataframe thead th {\n",
       "        text-align: right;\n",
       "    }\n",
       "</style>\n",
       "<table border=\"1\" class=\"dataframe\">\n",
       "  <thead>\n",
       "    <tr style=\"text-align: right;\">\n",
       "      <th></th>\n",
       "      <th>Sale_Date</th>\n",
       "      <th>Price</th>\n",
       "    </tr>\n",
       "  </thead>\n",
       "  <tbody>\n",
       "    <tr>\n",
       "      <th>0</th>\n",
       "      <td>2021-08-19</td>\n",
       "      <td>80.0</td>\n",
       "    </tr>\n",
       "    <tr>\n",
       "      <th>1</th>\n",
       "      <td>2021-08-20</td>\n",
       "      <td>80.0</td>\n",
       "    </tr>\n",
       "    <tr>\n",
       "      <th>2</th>\n",
       "      <td>2021-08-21</td>\n",
       "      <td>80.0</td>\n",
       "    </tr>\n",
       "    <tr>\n",
       "      <th>3</th>\n",
       "      <td>2021-08-22</td>\n",
       "      <td>80.0</td>\n",
       "    </tr>\n",
       "    <tr>\n",
       "      <th>4</th>\n",
       "      <td>2021-08-23</td>\n",
       "      <td>80.0</td>\n",
       "    </tr>\n",
       "    <tr>\n",
       "      <th>...</th>\n",
       "      <td>...</td>\n",
       "      <td>...</td>\n",
       "    </tr>\n",
       "    <tr>\n",
       "      <th>1429</th>\n",
       "      <td>2025-07-18</td>\n",
       "      <td>90.0</td>\n",
       "    </tr>\n",
       "    <tr>\n",
       "      <th>1430</th>\n",
       "      <td>2025-07-19</td>\n",
       "      <td>90.0</td>\n",
       "    </tr>\n",
       "    <tr>\n",
       "      <th>1431</th>\n",
       "      <td>2025-07-20</td>\n",
       "      <td>90.0</td>\n",
       "    </tr>\n",
       "    <tr>\n",
       "      <th>1432</th>\n",
       "      <td>2025-07-21</td>\n",
       "      <td>90.0</td>\n",
       "    </tr>\n",
       "    <tr>\n",
       "      <th>1433</th>\n",
       "      <td>2025-07-22</td>\n",
       "      <td>90.0</td>\n",
       "    </tr>\n",
       "  </tbody>\n",
       "</table>\n",
       "<p>1434 rows × 2 columns</p>\n",
       "</div>"
      ],
      "text/plain": [
       "       Sale_Date  Price\n",
       "0     2021-08-19   80.0\n",
       "1     2021-08-20   80.0\n",
       "2     2021-08-21   80.0\n",
       "3     2021-08-22   80.0\n",
       "4     2021-08-23   80.0\n",
       "...          ...    ...\n",
       "1429  2025-07-18   90.0\n",
       "1430  2025-07-19   90.0\n",
       "1431  2025-07-20   90.0\n",
       "1432  2025-07-21   90.0\n",
       "1433  2025-07-22   90.0\n",
       "\n",
       "[1434 rows x 2 columns]"
      ]
     },
     "execution_count": 13,
     "metadata": {},
     "output_type": "execute_result"
    }
   ],
   "source": [
    "daily_prices_org = pd.merge(all_dates_df, daily_prices, on='Sale_Date', how='left')\n",
    "daily_prices_org = daily_prices_org.sort_values('Sale_Date')\n",
    "daily_prices_org['Price'] = daily_prices_org['Price'].ffill()\n",
    "daily_prices_org"
   ]
  },
  {
   "cell_type": "code",
   "execution_count": 14,
   "id": "d8b6be18",
   "metadata": {},
   "outputs": [
    {
     "data": {
      "image/png": "[encoded data removed]",
      "text/plain": [
       "<Figure size 1200x600 with 1 Axes>"
      ]
     },
     "metadata": {},
     "output_type": "display_data"
    }
   ],
   "source": [
    "# plot the daily prices\n",
    "plt.figure(figsize=(12, 6))\n",
    "plt.plot(daily_prices_org['Sale_Date'], daily_prices_org['Price'], marker='o', linestyle='-')\n",
    "plt.title(f'Daily Price History for {item}')\n",
    "plt.xlabel('Date')\n",
    "plt.ylabel('Price')\n",
    "plt.grid(True)\n",
    "plt.xticks(rotation=45)\n",
    "plt.tight_layout()\n",
    "plt.show()"
   ]
  },
  {
   "cell_type": "code",
   "execution_count": 20,
   "id": "38728b70",
   "metadata": {},
   "outputs": [
    {
     "name": "stderr",
     "output_type": "stream",
     "text": [
      "<string>:8: SyntaxWarning: invalid escape sequence '\\{'\n",
      "<>:8: SyntaxWarning: invalid escape sequence '\\{'\n",
      "<string>:8: SyntaxWarning: invalid escape sequence '\\{'\n",
      "<>:8: SyntaxWarning: invalid escape sequence '\\{'\n",
      "C:\\Users\\fadia\\AppData\\Local\\Temp\\ipykernel_52892\\545047162.py:8: SyntaxWarning: invalid escape sequence '\\{'\n",
      "  output_file = f\"{output_path}\\{file_name}\"\n"
     ]
    }
   ],
   "source": [
    "# save the daily_prices to csv file with item name\n",
    "\n",
    "import os\n",
    "\n",
    "\n",
    "output_path = r'C:\\Users\\fadia\\OneDrive\\Desktop\\Ody\\sampel DataBase\\Product_History_Reports\\Btl'\n",
    "file_name = f\"{item.replace(' ', '_')}.csv\"\n",
    "output_file = f\"{output_path}\\{file_name}\"\n",
    "if not os.path.exists(output_path):\n",
    "    os.makedirs(output_path)\n",
    "item_df.to_csv(output_file, index=False)\n"
   ]
  },
  {
   "cell_type": "code",
   "execution_count": null,
   "id": "c27b4634",
   "metadata": {},
   "outputs": [],
   "source": []
  }
 ],
 "metadata": {
  "kernelspec": {
   "display_name": "Python 3",
   "language": "python",
   "name": "python3"
  },
  "language_info": {
   "codemirror_mode": {
    "name": "ipython",
    "version": 3
   },
   "file_extension": ".py",
   "mimetype": "text/x-python",
   "name": "python",
   "nbconvert_exporter": "python",
   "pygments_lexer": "ipython3",
   "version": "3.12.4"
  }
 },
 "nbformat": 4,
 "nbformat_minor": 5
}
